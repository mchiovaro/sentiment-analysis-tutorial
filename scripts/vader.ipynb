{
 "cells": [
  {
   "cell_type": "markdown",
   "metadata": {},
   "source": [
    "VADER: Sentiment Analysis in Python\n",
    "\n",
    "This tutorial demonstrates how to use VADER to identify sentiment scores, including positive, negative, neutral, and compound.\n",
    "\n",
    "This code is borrowed from Sofiane Ouaari at thePythonCode.com\n",
    "Link: https://www.thepythoncode.com/article/vaderSentiment-tool-to-extract-sentimental-values-in-texts-using-python"
   ]
  },
  {
   "cell_type": "code",
   "execution_count": null,
   "metadata": {},
   "outputs": [],
   "source": [
    "pip install vaderSentiment"
   ]
  },
  {
   "cell_type": "code",
   "execution_count": 2,
   "metadata": {},
   "outputs": [],
   "source": [
    "from vaderSentiment.vaderSentiment import SentimentIntensityAnalyzer\n",
    "\n",
    "# init the sentiment analyzer\n",
    "sia = SentimentIntensityAnalyzer()"
   ]
  },
  {
   "cell_type": "markdown",
   "metadata": {},
   "source": [
    "Now that we have initiated the sentiment analyzer, we will make up some sentences to analyze. "
   ]
  },
  {
   "cell_type": "code",
   "execution_count": 9,
   "metadata": {},
   "outputs": [],
   "source": [
    "sentences = [\n",
    "    \"This ice cream is amazing and tasty!\",\n",
    "    \"Plants are living creatures too.\",\n",
    "    \"It is sad to see such horrible tragedy.\"\n",
    "]"
   ]
  },
  {
   "cell_type": "markdown",
   "metadata": {},
   "source": [
    "We now use the compund to get a general sentiment value."
   ]
  },
  {
   "cell_type": "code",
   "execution_count": 10,
   "metadata": {},
   "outputs": [
    {
     "name": "stdout",
     "output_type": "stream",
     "text": [
      "The sentiment value of the sentence :\"This ice cream is amazing and tasty!\" is : 0.6239\n",
      "The sentiment value of the sentence :\"Plants are living creatures too.\" is : 0.0\n",
      "The sentiment value of the sentence :\"It is sad to see such horrible tragedy.\" is : -0.9001\n"
     ]
    }
   ],
   "source": [
    "for sentence in sentences:\n",
    "    score = sia.polarity_scores(sentence)[\"compound\"]\n",
    "    print(f'The sentiment value of the sentence :\"{sentence}\" is : {score}')"
   ]
  },
  {
   "cell_type": "markdown",
   "metadata": {},
   "source": [
    "VADER can also help us identify how positive, negative, and neutral text is."
   ]
  },
  {
   "cell_type": "code",
   "execution_count": 11,
   "metadata": {},
   "outputs": [
    {
     "name": "stdout",
     "output_type": "stream",
     "text": [
      "For the sentence \"This ice cream is amazing and tasty!\"\n",
      "The percententage of positive sentiment in :\"This ice cream is amazing and tasty!\" is : 40.5 %\n",
      "The percententage of neutral sentiment in :\"This ice cream is amazing and tasty!\" is : 59.5 %\n",
      "The percententage of negative sentiment in :\"This ice cream is amazing and tasty!\" is : 0.0 %\n",
      "==================================================\n",
      "For the sentence \"Plants are living creatures too.\"\n",
      "The percententage of positive sentiment in :\"Plants are living creatures too.\" is : 0.0 %\n",
      "The percententage of neutral sentiment in :\"Plants are living creatures too.\" is : 100.0 %\n",
      "The percententage of negative sentiment in :\"Plants are living creatures too.\" is : 0.0 %\n",
      "==================================================\n",
      "For the sentence \"It is sad to see such horrible tragedy.\"\n",
      "The percententage of positive sentiment in :\"It is sad to see such horrible tragedy.\" is : 0.0 %\n",
      "The percententage of neutral sentiment in :\"It is sad to see such horrible tragedy.\" is : 31.2 %\n",
      "The percententage of negative sentiment in :\"It is sad to see such horrible tragedy.\" is : 68.8 %\n",
      "==================================================\n"
     ]
    }
   ],
   "source": [
    "for sentence in sentences:\n",
    "    print(f'For the sentence \"{sentence}\"')\n",
    "    polarity = sia.polarity_scores(sentence)\n",
    "    pos = polarity[\"pos\"]\n",
    "    neu = polarity[\"neu\"]\n",
    "    neg = polarity[\"neg\"]\n",
    "    print(f'The percententage of positive sentiment in :\"{sentence}\" is : {round(pos*100,2)} %')\n",
    "    print(f'The percententage of neutral sentiment in :\"{sentence}\" is : {round(neu*100,2)} %')\n",
    "    print(f'The percententage of negative sentiment in :\"{sentence}\" is : {round(neg*100,2)} %')\n",
    "    print(\"=\"*50)"
   ]
  }
 ],
 "metadata": {
  "kernelspec": {
   "display_name": "Python 3",
   "language": "python",
   "name": "python3"
  },
  "language_info": {
   "codemirror_mode": {
    "name": "ipython",
    "version": 3
   },
   "file_extension": ".py",
   "mimetype": "text/x-python",
   "name": "python",
   "nbconvert_exporter": "python",
   "pygments_lexer": "ipython3",
   "version": "3.7.4"
  }
 },
 "nbformat": 4,
 "nbformat_minor": 2
}
